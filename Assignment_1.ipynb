{
  "cells": [
    {
      "cell_type": "code",
      "execution_count": 15,
      "metadata": {
        "id": "RXllf4jK59mH"
      },
      "outputs": [
        {
          "ename": "ModuleNotFoundError",
          "evalue": "No module named 'pandas'",
          "output_type": "error",
          "traceback": [
            "\u001b[1;31m---------------------------------------------------------------------------\u001b[0m",
            "\u001b[1;31mModuleNotFoundError\u001b[0m                       Traceback (most recent call last)",
            "Cell \u001b[1;32mIn[15], line 1\u001b[0m\n\u001b[1;32m----> 1\u001b[0m \u001b[39mimport\u001b[39;00m \u001b[39mpandas\u001b[39;00m \u001b[39mas\u001b[39;00m \u001b[39mpd\u001b[39;00m\n\u001b[0;32m      2\u001b[0m \u001b[39mimport\u001b[39;00m \u001b[39mnumpy\u001b[39;00m \u001b[39mas\u001b[39;00m \u001b[39mnp\u001b[39;00m\n",
            "\u001b[1;31mModuleNotFoundError\u001b[0m: No module named 'pandas'"
          ]
        }
      ],
      "source": [
        "import pandas as pd\n",
        "import numpy as np"
      ]
    },
    {
      "cell_type": "code",
      "execution_count": null,
      "metadata": {
        "colab": {
          "base_uri": "https://localhost:8080/",
          "height": 363
        },
        "id": "j9g3tEf76VcM",
        "outputId": "2998b9da-f1cc-4ed6-bbd0-5b1fef4fa88c"
      },
      "outputs": [],
      "source": [
        "# Task - 1 Create a pandas dataframe (DataFrame name as 'df') (10 observation and 5 features)\n",
        "\n",
        "df = pd.DataFrame([['Adib',20,'M',84,'A'],\n",
        "                   ['Pratik',21,'M',92,'S'],\n",
        "                   ['Reshna',20,'F',np.nan,np.nan],\n",
        "                   ['Shreya',19,'F',86,'A'],\n",
        "                   ['Sania',np.nan,'F',67,'C'],\n",
        "                   ['Aamir',22,'M',85,'A'],\n",
        "                   ['Ajeeth',21,'M',78,'B'],\n",
        "                   ['Arif',18,'M',73,'B'],\n",
        "                   ['Akanksha',20,'F',32,'F'],\n",
        "                   ['Sara',19,'F',96,'S']])\n",
        "df.columns=['Name','Age','Gender','Mark','Grade']\n",
        "df.index =['S1','S2','S3','S4','S5','S6','S7','S8','S9','S10']\n",
        "\n",
        "df"
      ]
    },
    {
      "cell_type": "code",
      "execution_count": null,
      "metadata": {
        "colab": {
          "base_uri": "https://localhost:8080/"
        },
        "id": "SRk2z9cdDjXH",
        "outputId": "6e43c38e-3803-4a53-fa1b-ac38098f3a96"
      },
      "outputs": [],
      "source": [
        "# Task- 2 Check the info of 'df'\n",
        "\n",
        "df.info()"
      ]
    },
    {
      "cell_type": "code",
      "execution_count": null,
      "metadata": {
        "colab": {
          "base_uri": "https://localhost:8080/",
          "height": 300
        },
        "id": "JVTTULiCDxvl",
        "outputId": "7692b7eb-340a-4660-ff48-cccc802ed16e"
      },
      "outputs": [],
      "source": [
        "Task 3- Check the descriptive statistics of 'df'\n",
        "\n",
        "df.describe()"
      ]
    },
    {
      "cell_type": "code",
      "execution_count": null,
      "metadata": {
        "colab": {
          "base_uri": "https://localhost:8080/",
          "height": 80
        },
        "id": "U0Ji84iHD7ne",
        "outputId": "4889282a-fe2f-4dff-f642-2771d8ca9e4c"
      },
      "outputs": [],
      "source": [
        "# Task 4- check the 4th index observation with 'loc' slicing operator.\n",
        "\n",
        "# 4th indexed observation means the 5th value.\n",
        "\n",
        "df.loc['S5':'S5','Name':'Grade']"
      ]
    },
    {
      "cell_type": "code",
      "execution_count": null,
      "metadata": {
        "colab": {
          "base_uri": "https://localhost:8080/"
        },
        "id": "xznmZ-rvEYZT",
        "outputId": "1879c981-4ce0-4b2f-8a62-54d8670d4599"
      },
      "outputs": [],
      "source": [
        "# Task 5 - Check the null values in your 'df'\n",
        "\n",
        "df.isnull().any()"
      ]
    },
    {
      "cell_type": "code",
      "execution_count": null,
      "metadata": {
        "colab": {
          "base_uri": "https://localhost:8080/"
        },
        "id": "jWCH8jnHGDnn",
        "outputId": "bbf67902-c8d6-48a0-8a45-0ec03e6e3900"
      },
      "outputs": [],
      "source": [
        "df.isnull().sum()"
      ]
    },
    {
      "cell_type": "code",
      "execution_count": null,
      "metadata": {
        "id": "pEUBXJdEGIF-"
      },
      "outputs": [],
      "source": []
    }
  ],
  "metadata": {
    "colab": {
      "provenance": []
    },
    "kernelspec": {
      "display_name": "Python 3",
      "language": "python",
      "name": "python3"
    },
    "language_info": {
      "codemirror_mode": {
        "name": "ipython",
        "version": 3
      },
      "file_extension": ".py",
      "mimetype": "text/x-python",
      "name": "python",
      "nbconvert_exporter": "python",
      "pygments_lexer": "ipython3",
      "version": "3.9.13"
    },
    "vscode": {
      "interpreter": {
        "hash": "cfd98d36582a4d5d6e7ff3e8cef60e50e6df64c9036aa237150411938ccc3fa9"
      }
    }
  },
  "nbformat": 4,
  "nbformat_minor": 0
}
